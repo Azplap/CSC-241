{
 "cells": [
  {
   "cell_type": "markdown",
   "metadata": {},
   "source": [
    "# Assignment 5\n",
    "## Austin Peng\n",
    "## CSC 247\n",
    "\n",
    "---"
   ]
  },
  {
   "cell_type": "markdown",
   "metadata": {},
   "source": [
    "# A)\n",
    "\n",
    "Table gives us conditional distributions.\n",
    "\n",
    "Make a 16 row table like this:\n",
    "\n",
    "S SPR R G P(S SPR R G)\n",
    "\n",
    "0 0 0 0 x\n",
    ".\n",
    ".\n",
    ".\n",
    "\n",
    "(1 - 0.5)*(1 - 0.7)*(1-0.5)*(1-0.01) = P(S)P(R|S)P(SPR|S)P(G|R, SPR)\n",
    "\n",
    "\n",
    "Where the final P() is the sum of all conditional probabilities"
   ]
  },
  {
   "cell_type": "code",
   "execution_count": 1,
   "metadata": {},
   "outputs": [],
   "source": [
    "import random\n",
    "from pprint import pprint"
   ]
  },
  {
   "cell_type": "code",
   "execution_count": 2,
   "metadata": {},
   "outputs": [],
   "source": [
    "p_sky=[0.5,0.5]\n",
    "# cloudy / sunny\n",
    "p_rain=[0.7, 0.01]\n",
    "p_sprinkler=[0.5,0.9]\n",
    "p_grass=[0.99,0.9,0.9,0.01]"
   ]
  },
  {
   "cell_type": "code",
   "execution_count": 3,
   "metadata": {},
   "outputs": [],
   "source": [
    "# order is sky, rain, spr, grass\n",
    "# sky 0 == cloudy, sky 1 == sunny\n",
    "a_combinations=[\n",
    "    [0,0,0,0],\n",
    "    [0,0,0,1],\n",
    "    [0,0,1,0],\n",
    "    [0,1,0,0],\n",
    "    [1,0,0,0],\n",
    "    \n",
    "    [0,0,1,1],\n",
    "    [0,1,1,0],\n",
    "    [1,1,0,0],\n",
    "    [1,0,1,0],\n",
    "    [0,1,0,1],\n",
    "    [1,0,0,1],\n",
    "    \n",
    "    [0,1,1,1],\n",
    "    [1,1,1,0],\n",
    "    [1,0,1,1],\n",
    "    [1,1,0,1],\n",
    "    [1,1,1,1],\n",
    "]"
   ]
  },
  {
   "cell_type": "code",
   "execution_count": 20,
   "metadata": {},
   "outputs": [
    {
     "name": "stdout",
     "output_type": "stream",
     "text": [
      "All conditional probabilities: \n",
      "[0.07425,\n",
      " 0.00075,\n",
      " 0.0075,\n",
      " 0.0175,\n",
      " 0.049,\n",
      " 0.0675,\n",
      " 0.00175,\n",
      " 5e-05,\n",
      " 0.04455,\n",
      " 0.1575,\n",
      " 0.00049,\n",
      " 0.17325,\n",
      " 5e-05,\n",
      " 0.40095,\n",
      " 0.00045,\n",
      " 0.00446]\n",
      "Sum of possibilities:  1.0\n"
     ]
    }
   ],
   "source": [
    "# finds possibilites for each possible combination\n",
    "def calc_combinations(combinations):\n",
    "    for combination in combinations:\n",
    "        # set sky to cloudy or sunny, 0 or 1\n",
    "        tempSky = (1-p_sky[0]) if combination[0] == 0 else p_sky[1]\n",
    "        \n",
    "        # dependent on sky\n",
    "        tempRain = p_rain[0] if combination[0] == 0 else p_rain[1]\n",
    "        tempSprink = p_sprinkler[0] if combination[0] == 0 else p_sprinkler[1]\n",
    "        \n",
    "        if int(combination[1]) == 0: tempRain = 1-tempRain\n",
    "        if int(combination[2]) == 0: tempSprink = 1-tempSprink\n",
    "    \n",
    "        # dependent on grass and sprinkler\n",
    "        if combination[1] == 0 and combination[2] == 0:\n",
    "            tempGrass = p_grass[3]\n",
    "        elif combination[1] == 1 and combination[2] == 1:\n",
    "            tempGrass = p_grass[0]\n",
    "        elif combination[1] == 1 or combination[2] == 1:\n",
    "            tempGrass = p_grass[1]\n",
    "            \n",
    "        if combination[3] == 0: tempGrass = 1-tempGrass \n",
    "        \n",
    "        total = tempSky*tempRain*tempSprink*tempGrass\n",
    "        \n",
    "        a_possibilties.append(round(total,5))\n",
    "\n",
    "        \n",
    "    \n",
    "a_possibilties=[]            \n",
    "calc_combinations(a_combinations)\n",
    "\n",
    "print(\"All conditional probabilities: \")\n",
    "pprint(a_possibilties)\n",
    "\n",
    "print(\"Sum of possibilities: \", sum(a_possibilties) )"
   ]
  },
  {
   "cell_type": "markdown",
   "metadata": {},
   "source": [
    "# B)\n",
    "\n",
    "What is P(G=0)?\n",
    "\n",
    "= Summation of S * Summation of N * Summation of R P(S,N,R,G=0)\n",
    "\n",
    "Sum up all probability values where G=0 and G=1\n",
    "\n",
    "2 Tables with 2^3 probabilities each."
   ]
  },
  {
   "cell_type": "code",
   "execution_count": 49,
   "metadata": {},
   "outputs": [],
   "source": [
    "# Combine for easy reading\n",
    "b_distribution=[]\n",
    "\n",
    "for x in range(0, len(a_possibilties)):\n",
    "    temp=a_combinations[x].copy()\n",
    "    temp.append(a_possibilties[x])\n",
    "    b_distribution.append(temp)"
   ]
  },
  {
   "cell_type": "code",
   "execution_count": 50,
   "metadata": {},
   "outputs": [
    {
     "name": "stdout",
     "output_type": "stream",
     "text": [
      "[[0, 0, 0, 0, 0.07425],\n",
      " [0, 0, 1, 0, 0.0075],\n",
      " [0, 1, 0, 0, 0.0175],\n",
      " [1, 0, 0, 0, 0.049],\n",
      " [0, 1, 1, 0, 0.00175],\n",
      " [1, 1, 0, 0, 5e-05],\n",
      " [1, 0, 1, 0, 0.04455],\n",
      " [1, 1, 1, 0, 5e-05]]\n",
      "\n",
      "[[0, 0, 0, 1, 0.00075],\n",
      " [0, 0, 1, 1, 0.0675],\n",
      " [0, 1, 0, 1, 0.1575],\n",
      " [1, 0, 0, 1, 0.00049],\n",
      " [0, 1, 1, 1, 0.17325],\n",
      " [1, 0, 1, 1, 0.40095],\n",
      " [1, 1, 0, 1, 0.00045],\n",
      " [1, 1, 1, 1, 0.00446]]\n"
     ]
    }
   ],
   "source": [
    "# Separate into g=1 g=0\n",
    "gZero=[]\n",
    "gOne=[]\n",
    "for x in b_distribution:\n",
    "    if x[3] == 0:\n",
    "        gZero.append(x)\n",
    "    else:\n",
    "        gOne.append(x)\n",
    "pprint(gZero)\n",
    "print()\n",
    "pprint(gOne)"
   ]
  },
  {
   "cell_type": "code",
   "execution_count": 51,
   "metadata": {},
   "outputs": [
    {
     "name": "stdout",
     "output_type": "stream",
     "text": [
      "0.19465\n",
      "0.80535\n"
     ]
    }
   ],
   "source": [
    "gZeroSum=0\n",
    "for x in gZero:\n",
    "    gZeroSum+=(x[4])\n",
    "print(gZeroSum)\n",
    "\n",
    "gOneSum=0\n",
    "for x in gOne:\n",
    "    gOneSum+=(x[4])\n",
    "print(gOneSum)"
   ]
  },
  {
   "cell_type": "code",
   "execution_count": 41,
   "metadata": {},
   "outputs": [],
   "source": [
    "# Compute P(S N R | G = 0)\n",
    "# This is equivalent to dividing each element by the sum of all elements "
   ]
  },
  {
   "cell_type": "code",
   "execution_count": 52,
   "metadata": {},
   "outputs": [
    {
     "name": "stdout",
     "output_type": "stream",
     "text": [
      "[0.38145389160030824,\n",
      " 0.038530696121243255,\n",
      " 0.08990495761623428,\n",
      " 0.251733881325456,\n",
      " 0.008990495761623427,\n",
      " 0.0002568713074749551,\n",
      " 0.22887233496018494,\n",
      " 0.0002568713074749551]\n",
      "Sum:  1.0 \n",
      "\n",
      "[0.0009312721177127957,\n",
      " 0.08381449059415162,\n",
      " 0.19556714471968709,\n",
      " 0.0006084311169056931,\n",
      " 0.21512385919165578,\n",
      " 0.49785807412926053,\n",
      " 0.0005587632706276774,\n",
      " 0.005537964859998759]\n",
      "Sum:  0.9999999999999999\n"
     ]
    }
   ],
   "source": [
    "gZero_posterior=[]\n",
    "for x in gZero:\n",
    "    gZero_posterior.append(x[4]/gZeroSum)\n",
    "    \n",
    "gOne_posterior=[]\n",
    "for x in gOne:\n",
    "    gOne_posterior.append(x[4]/gOneSum)\n",
    "\n",
    "pprint(gZero_posterior)\n",
    "print(\"Sum: \",sum(gZero_posterior),'\\n')\n",
    "pprint(gOne_posterior)\n",
    "print(\"Sum: \",sum(gOne_posterior))"
   ]
  },
  {
   "cell_type": "code",
   "execution_count": 53,
   "metadata": {},
   "outputs": [
    {
     "name": "stdout",
     "output_type": "stream",
     "text": [
      "[[0, 0, 0, 0, 0.07425, 0.38145389160030824],\n",
      " [0, 0, 1, 0, 0.0075, 0.038530696121243255],\n",
      " [0, 1, 0, 0, 0.0175, 0.08990495761623428],\n",
      " [1, 0, 0, 0, 0.049, 0.251733881325456],\n",
      " [0, 1, 1, 0, 0.00175, 0.008990495761623427],\n",
      " [1, 1, 0, 0, 5e-05, 0.0002568713074749551],\n",
      " [1, 0, 1, 0, 0.04455, 0.22887233496018494],\n",
      " [1, 1, 1, 0, 5e-05, 0.0002568713074749551]]\n",
      "\n",
      "[[0, 0, 0, 1, 0.00075, 0.0009312721177127957],\n",
      " [0, 0, 1, 1, 0.0675, 0.08381449059415162],\n",
      " [0, 1, 0, 1, 0.1575, 0.19556714471968709],\n",
      " [1, 0, 0, 1, 0.00049, 0.0006084311169056931],\n",
      " [0, 1, 1, 1, 0.17325, 0.21512385919165578],\n",
      " [1, 0, 1, 1, 0.40095, 0.49785807412926053],\n",
      " [1, 1, 0, 1, 0.00045, 0.0005587632706276774],\n",
      " [1, 1, 1, 1, 0.00446, 0.005537964859998759]]\n"
     ]
    }
   ],
   "source": [
    "for x in range(0, len(gZero)):\n",
    "    gZero[x].append(gZero_posterior[x])\n",
    "\n",
    "for x in range(0, len(gOne)):\n",
    "    gOne[x].append(gOne_posterior[x])\n",
    "\n",
    "\n",
    "\n",
    "pprint(gZero)\n",
    "print()\n",
    "pprint(gOne)"
   ]
  },
  {
   "cell_type": "markdown",
   "metadata": {},
   "source": [
    "# C)\n",
    "\n",
    "Use i-1 to draw from previous samples.\n",
    "\n",
    "for i=1 in range(0, 1000): \n",
    "\n",
    "S(i) = P(S | R(i-1), N(i-1), G=0 )\n",
    "\n",
    "R(i) = P(R | S(i-1), N(i-1), G=0 )\n",
    "\n",
    "N(i) = P(N | S(i-1), R(i-1), G=0 )\n",
    "\n",
    "\n",
    "Example:\n",
    "P(S = 1 | R(i-1), N(i-1), G=0) = \n",
    "P(S=1, R(i-1), N(i-1) G=0) / P(S=0, ri-1, ni-1, G=0) + P(S=1, Ri-1, Ni-1, G=0)\n",
    "\n",
    "Better explanation:\n",
    "Top part is read from table   /   bottom is the top part + the top part where S=0\n",
    "\n",
    "\n",
    "Use P value to generate next S value."
   ]
  },
  {
   "cell_type": "code",
   "execution_count": 63,
   "metadata": {},
   "outputs": [],
   "source": [
    "import numpy as np\n",
    "from pprint import pprint"
   ]
  },
  {
   "cell_type": "code",
   "execution_count": 64,
   "metadata": {
    "scrolled": true
   },
   "outputs": [
    {
     "name": "stdout",
     "output_type": "stream",
     "text": [
      "[[0, 0, 0, 0, 0.07425, 0.38145389160030824],\n",
      " [0, 0, 0, 1, 0.00075, 0.0009312721177127957],\n",
      " [0, 0, 1, 0, 0.0075, 0.038530696121243255],\n",
      " [0, 1, 0, 0, 0.0175, 0.08990495761623428],\n",
      " [1, 0, 0, 0, 0.049, 0.251733881325456],\n",
      " [0, 0, 1, 1, 0.0675, 0.08381449059415162],\n",
      " [0, 1, 1, 0, 0.00175, 0.008990495761623427],\n",
      " [1, 1, 0, 0, 5e-05, 0.0002568713074749551],\n",
      " [1, 0, 1, 0, 0.04455, 0.22887233496018494],\n",
      " [0, 1, 0, 1, 0.1575, 0.19556714471968709],\n",
      " [1, 0, 0, 1, 0.00049, 0.0006084311169056931],\n",
      " [0, 1, 1, 1, 0.17325, 0.21512385919165578],\n",
      " [1, 1, 1, 0, 5e-05, 0.0002568713074749551],\n",
      " [1, 0, 1, 1, 0.40095, 0.49785807412926053],\n",
      " [1, 1, 0, 1, 0.00045, 0.0005587632706276774],\n",
      " [1, 1, 1, 1, 0.00446, 0.005537964859998759]]\n"
     ]
    }
   ],
   "source": [
    "pprint(b_distribution)"
   ]
  },
  {
   "cell_type": "code",
   "execution_count": 123,
   "metadata": {},
   "outputs": [
    {
     "name": "stdout",
     "output_type": "stream",
     "text": [
      "0.00446\n"
     ]
    }
   ],
   "source": [
    "# returns prob given vars\n",
    "def search_distribution(distribution, sky, sprinkler, rain, grass):\n",
    "    for x in distribution:\n",
    "        if x[0]==sky and x[1]==sprinkler and x[2]==rain and x[3]==grass:\n",
    "            return x[4]\n",
    "\n",
    "print(search_distribution(b_distribution, 1,1,1,1))"
   ]
  },
  {
   "cell_type": "code",
   "execution_count": 124,
   "metadata": {},
   "outputs": [],
   "source": [
    "def find_conditional_probability(sky, sprinkler, rain, grass):\n",
    "    \n",
    "    numerator = search_distribution(b_distribution, sky, sprinkler, rain, grass) \n",
    "    # changes from 0 to 1 and vice versa\n",
    "    denominator = numerator + search_distribution(b_distribution, 1-sky , sprinkler, rain, grass)\n",
    "    \n",
    "    probability = numerator / denominator\n",
    "    \n",
    "    return probability"
   ]
  },
  {
   "cell_type": "code",
   "execution_count": 125,
   "metadata": {},
   "outputs": [
    {
     "data": {
      "text/plain": [
       "0.6024340770791075"
      ]
     },
     "execution_count": 125,
     "metadata": {},
     "output_type": "execute_result"
    }
   ],
   "source": [
    "find_conditional_probability(0, 0, 0, grass=0)"
   ]
  },
  {
   "cell_type": "markdown",
   "metadata": {},
   "source": [
    "## Run Gibbs"
   ]
  },
  {
   "cell_type": "code",
   "execution_count": 135,
   "metadata": {},
   "outputs": [],
   "source": [
    "# Will be 1000x3 Table for Sky, Sprinkler, and Rain\n",
    "# Base case of 0, 0, 0\n",
    "c_Gibbs_samples_gZero=[ [0],[0],[0] ]\n",
    "c_Gibbs_samples_gOne=[ [0],[0],[0] ]"
   ]
  },
  {
   "cell_type": "code",
   "execution_count": 137,
   "metadata": {
    "scrolled": true
   },
   "outputs": [],
   "source": [
    "# Part C\n",
    "# g=0\n",
    "for i in range(1, 1000):\n",
    "    for var in c_Gibbs_samples_gZero:\n",
    "        \n",
    "        # sky, sprinkler, rain, grass\n",
    "        # uses -1 index to take the latest value\n",
    "        p = find_conditional_probability(c_Gibbs_samples_gZero[0][-1], c_Gibbs_samples_gZero[1][-1], c_Gibbs_samples_gZero[2][-1], grass=0)\n",
    "        value = np.random.binomial(1, p, 1) # number of trials, probability of each trial, num of outputs\n",
    "        var.append(int(value))\n",
    "\n",
    "# g=1\n",
    "for i in range(1, 1000):\n",
    "    for var in c_Gibbs_samples_gOne:\n",
    "        \n",
    "        # sky, sprinkler, rain, grass\n",
    "        # uses -1 index to take the latest value\n",
    "        p = find_conditional_probability(c_Gibbs_samples_gOne[0][-1], c_Gibbs_samples_gOne[1][-1], c_Gibbs_samples_gOne[2][-1], grass=1)\n",
    "        value = np.random.binomial(1, p, 1) # number of trials, probability of each trial, num of outputs\n",
    "        var.append(int(value))"
   ]
  },
  {
   "cell_type": "markdown",
   "metadata": {},
   "source": [
    "## Evaluate Results"
   ]
  },
  {
   "cell_type": "code",
   "execution_count": 149,
   "metadata": {},
   "outputs": [
    {
     "data": {
      "text/plain": [
       "1000"
      ]
     },
     "execution_count": 149,
     "metadata": {},
     "output_type": "execute_result"
    }
   ],
   "source": [
    "# rearrange lists to check accuracy\n",
    "# create list to hold n combinations\n",
    "reformated_Gibbs_gZero=[]\n",
    "for x in range(0, len(c_Gibbs_samples_gZero[0])):\n",
    "    reformated_Gibbs_gZero.append([])\n",
    "    \n",
    "reformated_Gibbs_gOne=[]\n",
    "for x in range(0, len(c_Gibbs_samples_gOne[0])):\n",
    "    reformated_Gibbs_gOne.append([])\n",
    "\n",
    "len(reformated_Gibbs_gOne)"
   ]
  },
  {
   "cell_type": "code",
   "execution_count": 150,
   "metadata": {},
   "outputs": [],
   "source": [
    "# fill g=0\n",
    "for var_list in c_Gibbs_samples_gZero:\n",
    "    for x in range(0, len(var_list)):\n",
    "        reformated_Gibbs_gZero[x].append(var_list[x])\n",
    "\n",
    "# fill g=1\n",
    "for var_list in c_Gibbs_samples_gOne:\n",
    "    for x in range(0, len(var_list)):\n",
    "        reformated_Gibbs_gOne[x].append(var_list[x])"
   ]
  },
  {
   "cell_type": "code",
   "execution_count": 153,
   "metadata": {},
   "outputs": [
    {
     "data": {
      "text/plain": [
       "[[0, 0, 0, 0],\n",
       " [0, 0, 1, 0],\n",
       " [0, 1, 0, 0],\n",
       " [1, 0, 0, 0],\n",
       " [0, 1, 1, 0],\n",
       " [1, 1, 0, 0],\n",
       " [1, 0, 1, 0],\n",
       " [1, 1, 1, 0]]"
      ]
     },
     "execution_count": 153,
     "metadata": {},
     "output_type": "execute_result"
    }
   ],
   "source": [
    "# list of combinations to check accuracy\n",
    "gZero_combinations=[]\n",
    "for x in gZero:\n",
    "    gZero_combinations.append([x[0],x[1],x[2],x[3] ])\n",
    "\n",
    "gZero_combinations"
   ]
  },
  {
   "cell_type": "code",
   "execution_count": 154,
   "metadata": {},
   "outputs": [
    {
     "name": "stdout",
     "output_type": "stream",
     "text": [
      "44 0.044\n"
     ]
    }
   ],
   "source": [
    "# check each combination\n",
    "\n",
    "# gibbs_results_gZero=[]\n",
    "\n",
    "count=0\n",
    "for x in reformated_Gibbs_gOne:\n",
    "    if x[0]==0 and x[1]==0 and x[2]==0:\n",
    "        count+=1\n",
    "\n",
    "print(count, count/1000)"
   ]
  },
  {
   "cell_type": "code",
   "execution_count": 100,
   "metadata": {},
   "outputs": [
    {
     "data": {
      "text/plain": [
       "[[0, 0, 0, 0, 0.07425, 0.38145389160030824],\n",
       " [0, 0, 1, 0, 0.0075, 0.038530696121243255],\n",
       " [0, 1, 0, 0, 0.0175, 0.08990495761623428],\n",
       " [1, 0, 0, 0, 0.049, 0.251733881325456],\n",
       " [0, 1, 1, 0, 0.00175, 0.008990495761623427],\n",
       " [1, 1, 0, 0, 5e-05, 0.0002568713074749551],\n",
       " [1, 0, 1, 0, 0.04455, 0.22887233496018494],\n",
       " [1, 1, 1, 0, 5e-05, 0.0002568713074749551]]"
      ]
     },
     "execution_count": 100,
     "metadata": {},
     "output_type": "execute_result"
    }
   ],
   "source": [
    "gZero"
   ]
  },
  {
   "cell_type": "markdown",
   "metadata": {},
   "source": [
    "# D)\n",
    "\n",
    "corcoef( S (1000x1), S (1000x1) )\n"
   ]
  },
  {
   "cell_type": "code",
   "execution_count": null,
   "metadata": {},
   "outputs": [],
   "source": []
  },
  {
   "cell_type": "markdown",
   "metadata": {},
   "source": [
    "# E)\n",
    "\n",
    "Change the probabilities for Sky to something closer to 1 and 0. Ex: (0.1, 0.9)"
   ]
  },
  {
   "cell_type": "code",
   "execution_count": null,
   "metadata": {},
   "outputs": [],
   "source": []
  }
 ],
 "metadata": {
  "kernelspec": {
   "display_name": "Python 3",
   "language": "python",
   "name": "python3"
  },
  "language_info": {
   "codemirror_mode": {
    "name": "ipython",
    "version": 3
   },
   "file_extension": ".py",
   "mimetype": "text/x-python",
   "name": "python",
   "nbconvert_exporter": "python",
   "pygments_lexer": "ipython3",
   "version": "3.7.1"
  }
 },
 "nbformat": 4,
 "nbformat_minor": 2
}
