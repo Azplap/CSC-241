{
 "cells": [
  {
   "cell_type": "markdown",
   "metadata": {},
   "source": [
    "# Assignment 5\n",
    "## Austin Peng\n",
    "## CSC 247\n",
    "\n",
    "---"
   ]
  },
  {
   "cell_type": "markdown",
   "metadata": {},
   "source": [
    "# A)\n",
    "\n",
    "Table gives us conditional distributions.\n",
    "\n",
    "Make a 16 row table like this:\n",
    "\n",
    "S SPR R G P(S SPR R G)\n",
    "\n",
    "0 0 0 0 x\n",
    ".\n",
    ".\n",
    ".\n",
    "\n",
    "(1 - 0.5)*(1 - 0.7)*(1-0.5)*(1-0.01) = P(S)P(R|S)P(SPR|S)P(G|R, SPR)\n",
    "\n",
    "\n",
    "Where the final P() is the sum of all conditional probabilities"
   ]
  },
  {
   "cell_type": "code",
   "execution_count": 1,
   "metadata": {},
   "outputs": [],
   "source": [
    "import random\n",
    "from pprint import pprint"
   ]
  },
  {
   "cell_type": "code",
   "execution_count": 2,
   "metadata": {},
   "outputs": [],
   "source": [
    "p_sky=[0.5,0.5]\n",
    "# cloudy / sunny\n",
    "p_rain=[0.7, 0.01]\n",
    "p_sprinkler=[0.5,0.9]\n",
    "p_grass=[0.99,0.9,0.9,0.01]"
   ]
  },
  {
   "cell_type": "code",
   "execution_count": 3,
   "metadata": {},
   "outputs": [],
   "source": [
    "# order is sky, rain, spr, grass\n",
    "# sky 0 == cloudy, sky 1 == sunny\n",
    "a_combinations=[\n",
    "    [0,0,0,0],\n",
    "    [0,0,0,1],\n",
    "    [0,0,1,0],\n",
    "    [0,1,0,0],\n",
    "    [1,0,0,0],\n",
    "    \n",
    "    [0,0,1,1],\n",
    "    [0,1,1,0],\n",
    "    [1,1,0,0],\n",
    "    [1,0,1,0],\n",
    "    [0,1,0,1],\n",
    "    [1,0,0,1],\n",
    "    \n",
    "    [0,1,1,1],\n",
    "    [1,1,1,0],\n",
    "    [1,0,1,1],\n",
    "    [1,1,0,1],\n",
    "    [1,1,1,1],\n",
    "]"
   ]
  },
  {
   "cell_type": "code",
   "execution_count": 4,
   "metadata": {},
   "outputs": [
    {
     "name": "stdout",
     "output_type": "stream",
     "text": [
      "All conditional probabilities: \n",
      "[0.07425,\n",
      " 0.00075,\n",
      " 0.0075,\n",
      " 0.0175,\n",
      " 0.049,\n",
      " 0.0675,\n",
      " 0.00175,\n",
      " 5e-05,\n",
      " 0.04455,\n",
      " 0.1575,\n",
      " 0.00049,\n",
      " 0.17325,\n",
      " 5e-05,\n",
      " 0.40095,\n",
      " 0.00045,\n",
      " 0.00446]\n",
      "Sum of possibilities:  1.0\n"
     ]
    }
   ],
   "source": [
    "# finds possibilites for each possible combination\n",
    "def calc_combinations(combinations):\n",
    "    for combination in combinations:\n",
    "        # set sky to cloudy or sunny, 0 or 1\n",
    "        tempSky = (1-p_sky[0]) if combination[0] == 0 else p_sky[1]\n",
    "        \n",
    "        # dependent on sky\n",
    "        tempRain = p_rain[0] if combination[0] == 0 else p_rain[1]\n",
    "        tempSprink = p_sprinkler[0] if combination[0] == 0 else p_sprinkler[1]\n",
    "        \n",
    "        if int(combination[1]) == 0: tempRain = 1-tempRain\n",
    "        if int(combination[2]) == 0: tempSprink = 1-tempSprink\n",
    "    \n",
    "        # dependent on grass and sprinkler\n",
    "        if combination[1] == 0 and combination[2] == 0:\n",
    "            tempGrass = p_grass[3]\n",
    "        elif combination[1] == 1 and combination[2] == 1:\n",
    "            tempGrass = p_grass[0]\n",
    "        elif combination[1] == 1 or combination[2] == 1:\n",
    "            tempGrass = p_grass[1]\n",
    "            \n",
    "        if combination[3] == 0: tempGrass = 1-tempGrass \n",
    "        \n",
    "        total = tempSky*tempRain*tempSprink*tempGrass\n",
    "        \n",
    "        a_possibilties.append(round(total,5))\n",
    "\n",
    "        \n",
    "    \n",
    "a_possibilties=[]            \n",
    "calc_combinations(a_combinations)\n",
    "\n",
    "print(\"All conditional probabilities: \")\n",
    "pprint(a_possibilties)\n",
    "\n",
    "print(\"Sum of possibilities: \", sum(a_possibilties) )"
   ]
  },
  {
   "cell_type": "markdown",
   "metadata": {},
   "source": [
    "## Discussion:\n",
    "#### All conditional probabilities listed for each combination. They sum to one so they should be right."
   ]
  },
  {
   "cell_type": "markdown",
   "metadata": {},
   "source": [
    "---\n",
    "# B)\n",
    "\n",
    "Find joint posterior values where G=0 and G=1\n",
    "\n",
    "2 Tables with 2^3 probabilities each."
   ]
  },
  {
   "cell_type": "code",
   "execution_count": 5,
   "metadata": {},
   "outputs": [],
   "source": [
    "# Combine for easy reading\n",
    "b_distribution=[]\n",
    "\n",
    "for x in range(0, len(a_possibilties)):\n",
    "    temp=a_combinations[x].copy()\n",
    "    temp.append(a_possibilties[x])\n",
    "    b_distribution.append(temp)"
   ]
  },
  {
   "cell_type": "code",
   "execution_count": 6,
   "metadata": {},
   "outputs": [
    {
     "name": "stdout",
     "output_type": "stream",
     "text": [
      "Separate into g=1 and g=0\n",
      "[[0, 0, 0, 0, 0.07425],\n",
      " [0, 0, 1, 0, 0.0075],\n",
      " [0, 1, 0, 0, 0.0175],\n",
      " [1, 0, 0, 0, 0.049],\n",
      " [0, 1, 1, 0, 0.00175],\n",
      " [1, 1, 0, 0, 5e-05],\n",
      " [1, 0, 1, 0, 0.04455],\n",
      " [1, 1, 1, 0, 5e-05]]\n",
      "\n",
      "[[0, 0, 0, 1, 0.00075],\n",
      " [0, 0, 1, 1, 0.0675],\n",
      " [0, 1, 0, 1, 0.1575],\n",
      " [1, 0, 0, 1, 0.00049],\n",
      " [0, 1, 1, 1, 0.17325],\n",
      " [1, 0, 1, 1, 0.40095],\n",
      " [1, 1, 0, 1, 0.00045],\n",
      " [1, 1, 1, 1, 0.00446]]\n"
     ]
    }
   ],
   "source": [
    "# Separate into g=1 g=0\n",
    "gZero=[]\n",
    "gOne=[]\n",
    "for x in b_distribution:\n",
    "    if x[3] == 0:\n",
    "        gZero.append(x)\n",
    "    else:\n",
    "        gOne.append(x)\n",
    "print(\"Separate into g=1 and g=0\")\n",
    "pprint(gZero)\n",
    "print()\n",
    "pprint(gOne)"
   ]
  },
  {
   "cell_type": "code",
   "execution_count": 7,
   "metadata": {},
   "outputs": [
    {
     "name": "stdout",
     "output_type": "stream",
     "text": [
      "Sums of g=0 and g=1:\n",
      "0.19465\n",
      "0.80535\n"
     ]
    }
   ],
   "source": [
    "print(\"Sums of g=0 and g=1:\")\n",
    "\n",
    "gZeroSum=0\n",
    "for x in gZero:\n",
    "    gZeroSum+=(x[4])\n",
    "print(gZeroSum)\n",
    "\n",
    "gOneSum=0\n",
    "for x in gOne:\n",
    "    gOneSum+=(x[4])\n",
    "print(gOneSum)"
   ]
  },
  {
   "cell_type": "code",
   "execution_count": 8,
   "metadata": {},
   "outputs": [
    {
     "name": "stdout",
     "output_type": "stream",
     "text": [
      "Posterior Prob. of g=0\n",
      "[0.381, 0.039, 0.09, 0.252, 0.009, 0.0, 0.229, 0.0]\n",
      "Sum:  1.0 \n",
      "\n",
      "Posterior Prob. of g=1\n",
      "[0.001, 0.084, 0.196, 0.001, 0.215, 0.498, 0.001, 0.006]\n",
      "Sum:  1.002\n"
     ]
    }
   ],
   "source": [
    "# Compute P(S N R | G = 0)\n",
    "# This is equivalent to dividing each element by the sum of all elements \n",
    "\n",
    "gZero_posterior=[]\n",
    "for x in gZero:\n",
    "    gZero_posterior.append(round(x[4]/gZeroSum,3))\n",
    "    \n",
    "gOne_posterior=[]\n",
    "for x in gOne:\n",
    "    gOne_posterior.append(round(x[4]/gOneSum, 3))\n",
    "\n",
    "print(\"Posterior Prob. of g=0\",)\n",
    "pprint(gZero_posterior)\n",
    "print(\"Sum: \",sum(gZero_posterior),'\\n')\n",
    "\n",
    "print(\"Posterior Prob. of g=1\",)\n",
    "pprint(gOne_posterior)\n",
    "print(\"Sum: \",sum(gOne_posterior))"
   ]
  },
  {
   "cell_type": "code",
   "execution_count": 9,
   "metadata": {},
   "outputs": [
    {
     "name": "stdout",
     "output_type": "stream",
     "text": [
      "S, SPR, R, G, Prob, Posterior Prob\n",
      "[[0, 0, 0, 0, 0.07425, 0.381],\n",
      " [0, 0, 1, 0, 0.0075, 0.039],\n",
      " [0, 1, 0, 0, 0.0175, 0.09],\n",
      " [1, 0, 0, 0, 0.049, 0.252],\n",
      " [0, 1, 1, 0, 0.00175, 0.009],\n",
      " [1, 1, 0, 0, 5e-05, 0.0],\n",
      " [1, 0, 1, 0, 0.04455, 0.229],\n",
      " [1, 1, 1, 0, 5e-05, 0.0]]\n",
      "\n",
      "[[0, 0, 0, 1, 0.00075, 0.001],\n",
      " [0, 0, 1, 1, 0.0675, 0.084],\n",
      " [0, 1, 0, 1, 0.1575, 0.196],\n",
      " [1, 0, 0, 1, 0.00049, 0.001],\n",
      " [0, 1, 1, 1, 0.17325, 0.215],\n",
      " [1, 0, 1, 1, 0.40095, 0.498],\n",
      " [1, 1, 0, 1, 0.00045, 0.001],\n",
      " [1, 1, 1, 1, 0.00446, 0.006]]\n"
     ]
    }
   ],
   "source": [
    "for x in range(0, len(gZero)):\n",
    "    gZero[x].append(gZero_posterior[x])\n",
    "\n",
    "for x in range(0, len(gOne)):\n",
    "    gOne[x].append(gOne_posterior[x])\n",
    "\n",
    "\n",
    "print(\"S, SPR, R, G, Prob, Posterior Prob\")\n",
    "pprint(gZero)\n",
    "print()\n",
    "pprint(gOne)"
   ]
  },
  {
   "cell_type": "markdown",
   "metadata": {},
   "source": [
    "## Discussion:\n",
    "#### Probabilities for both tables sum to one.  Values are still similar but there are definate changes in the posterior probabilites."
   ]
  },
  {
   "cell_type": "markdown",
   "metadata": {},
   "source": [
    "---\n",
    "# C)\n",
    "\n",
    "\n",
    "Use i-1 to draw from previous samples.\n",
    "\n",
    "for i=1 in range(0, 1000): \n",
    "\n",
    "S(i) = P(S | R(i-1), N(i-1), G=0 )\n",
    "\n",
    "R(i) = P(R | S(i-1), N(i-1), G=0 )\n",
    "\n",
    "N(i) = P(N | S(i-1), R(i-1), G=0 )\n",
    "\n",
    "\n",
    "Example:\n",
    "P(S = 1 | R(i-1), N(i-1), G=0) = \n",
    "P(S=1, R(i-1), N(i-1) G=0) / P(S=0, ri-1, ni-1, G=0) + P(S=1, Ri-1, Ni-1, G=0)\n",
    "\n",
    "Better explanation:\n",
    "Top part is read from table   /   bottom is the top part + the top part where S=0 or S=1\n",
    "\n",
    "\n",
    "Use P percent to generate next S value."
   ]
  },
  {
   "cell_type": "code",
   "execution_count": 10,
   "metadata": {},
   "outputs": [],
   "source": [
    "import numpy as np\n",
    "from pprint import pprint"
   ]
  },
  {
   "cell_type": "code",
   "execution_count": 11,
   "metadata": {},
   "outputs": [
    {
     "name": "stdout",
     "output_type": "stream",
     "text": [
      "Example: 0.00446\n"
     ]
    }
   ],
   "source": [
    "# returns conditional prob given vars\n",
    "def search_distribution(distribution, sky, sprinkler, rain, grass):\n",
    "    for x in distribution:\n",
    "        if x[0]==sky and x[1]==sprinkler and x[2]==rain and x[3]==grass:\n",
    "            return x[4]\n",
    "\n",
    "print(\"Example:\", search_distribution(b_distribution, 1,1,1,1))"
   ]
  },
  {
   "cell_type": "code",
   "execution_count": 12,
   "metadata": {},
   "outputs": [],
   "source": [
    "def find_conditional_probability(sky, sprinkler, rain, grass, change):\n",
    "\n",
    "    numerator = search_distribution(b_distribution, sky, sprinkler, rain, grass) \n",
    "    \n",
    "    # changes from 0 to 1 and vice versa\n",
    "    if change==0:\n",
    "        sky=1-sky\n",
    "\n",
    "    elif change==1:\n",
    "        sprinkler=1-sprinkler\n",
    "\n",
    "    elif change==2:\n",
    "        rain=1-rain\n",
    "\n",
    "    \n",
    "    denominator = numerator + search_distribution(b_distribution, sky , sprinkler, rain, grass)\n",
    "    \n",
    "    probability = numerator / denominator\n",
    "    \n",
    "    return probability"
   ]
  },
  {
   "cell_type": "code",
   "execution_count": 13,
   "metadata": {},
   "outputs": [
    {
     "data": {
      "text/plain": [
       "0.6024340770791075"
      ]
     },
     "execution_count": 13,
     "metadata": {},
     "output_type": "execute_result"
    }
   ],
   "source": [
    "find_conditional_probability(0, 0, 0, grass=0, change=0)"
   ]
  },
  {
   "cell_type": "code",
   "execution_count": 28,
   "metadata": {},
   "outputs": [
    {
     "data": {
      "text/plain": [
       "0.025097068257273092"
      ]
     },
     "execution_count": 28,
     "metadata": {},
     "output_type": "execute_result"
    }
   ],
   "source": [
    "find_conditional_probability(1, 1, 1, grass=1, change=0)"
   ]
  },
  {
   "cell_type": "markdown",
   "metadata": {},
   "source": [
    "## Run Gibbs"
   ]
  },
  {
   "cell_type": "code",
   "execution_count": 14,
   "metadata": {},
   "outputs": [],
   "source": [
    "# Will be 1000x3 Table for Sky, Sprinkler, and Rain\n",
    "# Base case of 0, 0, 0\n",
    "c_Gibbs_samples_gZero=[ [0],[0],[0] ]\n",
    "c_Gibbs_samples_gOne=[ [0],[0],[0] ]"
   ]
  },
  {
   "cell_type": "code",
   "execution_count": 15,
   "metadata": {
    "scrolled": true
   },
   "outputs": [],
   "source": [
    "# Part C\n",
    "# g=0\n",
    "trials=10000\n",
    "for i in range(1, trials):\n",
    "    count=0\n",
    "    for var in c_Gibbs_samples_gZero:\n",
    "        \n",
    "        # sky, sprinkler, rain, grass\n",
    "        # uses -1 index to take the latest value\n",
    "        \n",
    "        # CHANGES HERE\n",
    "        p = find_conditional_probability( c_Gibbs_samples_gZero[0][-1], c_Gibbs_samples_gZero[1][-1], c_Gibbs_samples_gZero[2][-1], 0, count)\n",
    "        \n",
    "        value = np.random.binomial(1, p, 1) # number of trials, probability of each trial, num of outputs\n",
    "        var.append(int(value))\n",
    "        count+=1\n",
    "\n",
    "# g=1\n",
    "for i in range(1, trials):\n",
    "    count=0\n",
    "    for var in c_Gibbs_samples_gOne:\n",
    "        \n",
    "        # sky, sprinkler, rain, grass\n",
    "        # uses -1 index to take the latest value\n",
    "        p = find_conditional_probability( c_Gibbs_samples_gOne[0][-1], c_Gibbs_samples_gOne[1][-1], c_Gibbs_samples_gOne[2][-1], 1, count)\n",
    "        value = np.random.binomial(1, p, 1) # number of trials, probability of each trial, num of outputs\n",
    "        var.append(int(value))\n",
    "        count+=1"
   ]
  },
  {
   "cell_type": "markdown",
   "metadata": {},
   "source": [
    "## Evaluate Results"
   ]
  },
  {
   "cell_type": "code",
   "execution_count": 16,
   "metadata": {},
   "outputs": [
    {
     "data": {
      "text/plain": [
       "10000"
      ]
     },
     "execution_count": 16,
     "metadata": {},
     "output_type": "execute_result"
    }
   ],
   "source": [
    "# rearrange lists to check accuracy\n",
    "# create list to hold n combinations\n",
    "reformated_Gibbs_gZero=[]\n",
    "for x in range(0, len(c_Gibbs_samples_gZero[0])):\n",
    "    reformated_Gibbs_gZero.append([])\n",
    "    \n",
    "reformated_Gibbs_gOne=[]\n",
    "for x in range(0, len(c_Gibbs_samples_gOne[0])):\n",
    "    reformated_Gibbs_gOne.append([])\n",
    "\n",
    "len(reformated_Gibbs_gOne)"
   ]
  },
  {
   "cell_type": "code",
   "execution_count": 17,
   "metadata": {},
   "outputs": [],
   "source": [
    "# fill g=0 with Gibbs values\n",
    "for var_list in c_Gibbs_samples_gZero:\n",
    "    for x in range(0, len(var_list)):\n",
    "        reformated_Gibbs_gZero[x].append(var_list[x])\n",
    "\n",
    "# fill g=1\n",
    "for var_list in c_Gibbs_samples_gOne:\n",
    "    for x in range(0, len(var_list)):\n",
    "        reformated_Gibbs_gOne[x].append(var_list[x])"
   ]
  },
  {
   "cell_type": "code",
   "execution_count": 18,
   "metadata": {},
   "outputs": [
    {
     "name": "stdout",
     "output_type": "stream",
     "text": [
      "[[0, 0, 0, 1],\n",
      " [0, 0, 1, 1],\n",
      " [0, 1, 0, 1],\n",
      " [1, 0, 0, 1],\n",
      " [0, 1, 1, 1],\n",
      " [1, 0, 1, 1],\n",
      " [1, 1, 0, 1],\n",
      " [1, 1, 1, 1]]\n"
     ]
    }
   ],
   "source": [
    "# assemble list of combinations to check accuracy\n",
    "gZero_combinations=[]\n",
    "for x in gZero:\n",
    "    gZero_combinations.append([x[0],x[1],x[2],x[3] ])\n",
    "    \n",
    "    \n",
    "gOne_combinations=[]\n",
    "for x in gOne:\n",
    "    gOne_combinations.append([x[0],x[1],x[2],x[3] ])\n",
    "\n",
    "pprint(gOne_combinations)"
   ]
  },
  {
   "cell_type": "code",
   "execution_count": 19,
   "metadata": {},
   "outputs": [],
   "source": [
    "# check # of occurences for each combinationand divide by total\n",
    "gibbs_results_gZero=[]\n",
    "\n",
    "for combination in gZero_combinations: \n",
    "    count=0\n",
    "    for x in reformated_Gibbs_gZero:\n",
    "        if x[0]==combination[0] and x[1]==combination[1] and x[2]==combination[2]:\n",
    "            count+=1\n",
    "\n",
    "    gibbs_results_gZero.append(count/len(reformated_Gibbs_gOne))\n",
    "\n",
    "    \n",
    "gibbs_results_gOne=[]\n",
    "\n",
    "for combination in gOne_combinations: \n",
    "    count=0\n",
    "    for x in reformated_Gibbs_gOne:\n",
    "        if x[0]==combination[0] and x[1]==combination[1] and x[2]==combination[2]:\n",
    "            count+=1\n",
    "\n",
    "    gibbs_results_gOne.append(count/len(reformated_Gibbs_gOne))"
   ]
  },
  {
   "cell_type": "code",
   "execution_count": 20,
   "metadata": {},
   "outputs": [
    {
     "name": "stdout",
     "output_type": "stream",
     "text": [
      "[0.1254, 0.1238, 0.1261, 0.1245, 0.1231, 0.1255, 0.1265, 0.1251]\n",
      "[0.123, 0.1348, 0.1171, 0.1273, 0.1272, 0.1264, 0.1159, 0.1283]\n"
     ]
    }
   ],
   "source": [
    "# results!\n",
    "\n",
    "pprint(gibbs_results_gZero)\n",
    "pprint(gibbs_results_gOne)"
   ]
  },
  {
   "cell_type": "code",
   "execution_count": 21,
   "metadata": {},
   "outputs": [
    {
     "name": "stdout",
     "output_type": "stream",
     "text": [
      "Results from B\n",
      "\n",
      "S, SPR, R, G, Prob, Posterior Prob\n",
      "[[0, 0, 0, 0, 0.07425, 0.381],\n",
      " [0, 0, 1, 0, 0.0075, 0.039],\n",
      " [0, 1, 0, 0, 0.0175, 0.09],\n",
      " [1, 0, 0, 0, 0.049, 0.252],\n",
      " [0, 1, 1, 0, 0.00175, 0.009],\n",
      " [1, 1, 0, 0, 5e-05, 0.0],\n",
      " [1, 0, 1, 0, 0.04455, 0.229],\n",
      " [1, 1, 1, 0, 5e-05, 0.0]]\n",
      "\n",
      "[[0, 0, 0, 1, 0.00075, 0.001],\n",
      " [0, 0, 1, 1, 0.0675, 0.084],\n",
      " [0, 1, 0, 1, 0.1575, 0.196],\n",
      " [1, 0, 0, 1, 0.00049, 0.001],\n",
      " [0, 1, 1, 1, 0.17325, 0.215],\n",
      " [1, 0, 1, 1, 0.40095, 0.498],\n",
      " [1, 1, 0, 1, 0.00045, 0.001],\n",
      " [1, 1, 1, 1, 0.00446, 0.006]]\n"
     ]
    }
   ],
   "source": [
    "print(\"Results from B\\n\")\n",
    "print(\"S, SPR, R, G, Prob, Posterior Prob\")\n",
    "pprint(gZero)\n",
    "print()\n",
    "pprint(gOne)"
   ]
  },
  {
   "cell_type": "code",
   "execution_count": 22,
   "metadata": {},
   "outputs": [
    {
     "name": "stdout",
     "output_type": "stream",
     "text": [
      "Gibbs is on Left, Correct on Right \n",
      "\n",
      "G=0\n",
      "0.1254    0.381\n",
      "0.1238    0.039\n",
      "0.1261    0.09\n",
      "0.1245    0.252\n",
      "0.1231    0.009\n",
      "0.1255    0.0\n",
      "0.1265    0.229\n",
      "0.1251    0.0\n",
      "\n",
      "G1\n",
      "0.123    0.001\n",
      "0.1348    0.084\n",
      "0.1171    0.196\n",
      "0.1273    0.001\n",
      "0.1272    0.215\n",
      "0.1264    0.498\n",
      "0.1159    0.001\n",
      "0.1283    0.006\n"
     ]
    }
   ],
   "source": [
    "# for comparison\n",
    "print(\"Gibbs is on Left, Correct on Right \\n\\nG=0\")\n",
    "for x in range(0,8):\n",
    "    print(gibbs_results_gZero[x], \"  \",round(gZero[x][5], 3))\n",
    "\n",
    "print()\n",
    "print(\"G1\")\n",
    "for x in range(0,8):\n",
    "    print(gibbs_results_gOne[x], \"  \",round(gOne[x][5], 3))"
   ]
  },
  {
   "cell_type": "markdown",
   "metadata": {},
   "source": [
    "## Discussion:\n",
    "#### Gibbs values are a lot more evenly distributed for each combination compared to the posterior values. Increasing the # of trials up to 10000 and 5000 from 1000 did not really change anything."
   ]
  },
  {
   "cell_type": "markdown",
   "metadata": {},
   "source": [
    "---\n",
    "# D)\n",
    "\n",
    "corcoef( S (1000x1), S (1000x1) )\n"
   ]
  },
  {
   "cell_type": "markdown",
   "metadata": {},
   "source": [
    "## Correlation between G=0 and G=1 samples generated by Gibbs"
   ]
  },
  {
   "cell_type": "code",
   "execution_count": 23,
   "metadata": {
    "scrolled": true
   },
   "outputs": [
    {
     "name": "stdout",
     "output_type": "stream",
     "text": [
      "For Variable Sky:\n",
      "[[ 1.         -0.00138658]\n",
      " [-0.00138658  1.        ]]\n",
      "\n",
      "For Variable Sprinkler:\n",
      "[[ 1.         -0.00421031]\n",
      " [-0.00421031  1.        ]]\n",
      "\n",
      "For Variable Rain:\n",
      "[[ 1.         -0.00110042]\n",
      " [-0.00110042  1.        ]]\n"
     ]
    }
   ],
   "source": [
    "print(\"For Variable Sky:\")\n",
    "print(np.corrcoef(c_Gibbs_samples_gZero[0], c_Gibbs_samples_gOne[0]))\n",
    "\n",
    "print(\"\\nFor Variable Sprinkler:\")\n",
    "print(np.corrcoef(c_Gibbs_samples_gZero[1], c_Gibbs_samples_gOne[1]))\n",
    "\n",
    "print(\"\\nFor Variable Rain:\")\n",
    "print(np.corrcoef(c_Gibbs_samples_gZero[2], c_Gibbs_samples_gOne[2]))"
   ]
  },
  {
   "cell_type": "markdown",
   "metadata": {},
   "source": [
    "## Correlation between Samples of different Variables"
   ]
  },
  {
   "cell_type": "code",
   "execution_count": 24,
   "metadata": {
    "scrolled": true
   },
   "outputs": [
    {
     "name": "stdout",
     "output_type": "stream",
     "text": [
      "For Sky vs Sprinkler:\n",
      "[[ 1.00000000e+00 -3.98722073e-04]\n",
      " [-3.98722073e-04  1.00000000e+00]]\n",
      "\n",
      "For Sky vs Rain:\n",
      "[[1.         0.00620966]\n",
      " [0.00620966 1.        ]]\n",
      "\n",
      "For Sprinkler vs Rain:\n",
      "[[ 1.         -0.00380122]\n",
      " [-0.00380122  1.        ]]\n"
     ]
    }
   ],
   "source": [
    "print(\"For Sky vs Sprinkler:\")\n",
    "print(np.corrcoef(c_Gibbs_samples_gZero[0], c_Gibbs_samples_gZero[1]))\n",
    "\n",
    "print(\"\\nFor Sky vs Rain:\")\n",
    "print(np.corrcoef(c_Gibbs_samples_gZero[0], c_Gibbs_samples_gZero[2]))\n",
    "\n",
    "print(\"\\nFor Sprinkler vs Rain:\")\n",
    "print(np.corrcoef(c_Gibbs_samples_gZero[1], c_Gibbs_samples_gZero[2]))"
   ]
  },
  {
   "cell_type": "markdown",
   "metadata": {},
   "source": [
    "## Correlation between posterior results from B) and gibbs generated results"
   ]
  },
  {
   "cell_type": "code",
   "execution_count": 25,
   "metadata": {},
   "outputs": [
    {
     "name": "stdout",
     "output_type": "stream",
     "text": [
      "For G=0:\n",
      "[[1.         0.35006042]\n",
      " [0.35006042 1.        ]]\n",
      "\n",
      "For G=1:\n",
      "[[1.         0.06015245]\n",
      " [0.06015245 1.        ]]\n"
     ]
    }
   ],
   "source": [
    "print(\"For G=0:\")\n",
    "print(np.corrcoef(gibbs_results_gZero,gZero_posterior))\n",
    "\n",
    "print(\"\\nFor G=1:\")\n",
    "print(np.corrcoef(gibbs_results_gOne,gOne_posterior))"
   ]
  },
  {
   "cell_type": "markdown",
   "metadata": {},
   "source": [
    "## Discussion:\n",
    "\n",
    "The Correlation Coefficient Matrix is a measure of the direction and strength of a linear relationships among variables. The coefficient range is from -1 to 1 where 1 is a perfect positive relationship, -1 is a perfect negative relationship and 0 means no relationship.\n",
    "\n",
    "### 1\n",
    "\n",
    "For the first comparison we can see that there is no correlation between Sky and Rain when comparing values from g=0 and g=1. However there is a strong negative correlation between the Sprinkler Variable.\n",
    "\n",
    "\n",
    "### 2\n",
    "\n",
    "The second comparison shows us that there is no correlation between any of the 3 other variables when g=0\n",
    "\n",
    "\n",
    "### 3\n",
    "\n",
    "When comparing the posterior probabilities, both are negatively correlated. Where g=0, there is weak correlation but for g=1 there is a semi strong correlation of -0.34.\n"
   ]
  },
  {
   "cell_type": "markdown",
   "metadata": {},
   "source": [
    "---\n",
    "\n",
    "# E) RESULTS ON SEPERATE DOCUMENT\n",
    "\n",
    "Change the probabilities for Sky to something closer to 1 and 0. Ex: (0.1, 0.9)"
   ]
  }
 ],
 "metadata": {
  "kernelspec": {
   "display_name": "Python 3",
   "language": "python",
   "name": "python3"
  },
  "language_info": {
   "codemirror_mode": {
    "name": "ipython",
    "version": 3
   },
   "file_extension": ".py",
   "mimetype": "text/x-python",
   "name": "python",
   "nbconvert_exporter": "python",
   "pygments_lexer": "ipython3",
   "version": "3.7.1"
  }
 },
 "nbformat": 4,
 "nbformat_minor": 2
}
