{
 "cells": [
  {
   "cell_type": "code",
   "execution_count": 4,
   "metadata": {},
   "outputs": [
    {
     "data": {
      "text/plain": [
       "<matplotlib.image.AxesImage at 0x1d0c418aa20>"
      ]
     },
     "execution_count": 4,
     "metadata": {},
     "output_type": "execute_result"
    },
    {
     "data": {
      "image/png": "[encoded data removed]",
      "text/plain": [
       "<Figure size 864x360 with 2 Axes>"
      ]
     },
     "metadata": {},
     "output_type": "display_data"
    }
   ],
   "source": [
    "%matplotlib inline\n",
    "import numpy as np\n",
    "import math, sys\n",
    "import matplotlib.mlab as mlab\n",
    "import matplotlib.pyplot as plt\n",
    "\n",
    "sigx = 1 #degrees\n",
    "sigy = 2 #degrees\n",
    "phi = math.pi / 2\n",
    "k = 1/0.56\n",
    "alpha= math.pi / 2\n",
    "\n",
    "#Gabor Functions\n",
    "def RF(x,y):\n",
    "    result = (1/(2 * math.pi * sigx * sigy)) * math.exp(- (x**2)/(2*sigx**2) - (y**2)/(2*sigy**2)) * math.cos(k*x- phi)\n",
    "    return result\n",
    "\n",
    "def RFsin(x,y):\n",
    "    result = (1/(2 * math.pi * sigx * sigy)) * math.exp(- (x**2)/(2*sigx**2) - (y**2)/(2*sigy**2)) * math.sin(k*x- phi)\n",
    "    return result\n",
    "\n",
    "\n",
    "# 51x51 Matrix \n",
    "increments = [x for x in range(-25, 26, 1)]\n",
    "myarray = 2* np.asarray(increments)/10\n",
    "\n",
    "\n",
    "#create gabor matrix for simple cell 1\n",
    "matrix=[]\n",
    "for x in myarray:\n",
    "    temp=[]\n",
    "    for y in myarray:\n",
    "        temp.append(RF(y,x))\n",
    "    matrix.append(temp)\n",
    "\n",
    "#second RF with sin as well\n",
    "matrix2=[]\n",
    "for x in myarray:\n",
    "    temp=[]\n",
    "    for y in myarray:\n",
    "        temp.append(RFsin(y,x))\n",
    "    matrix2.append(temp)\n",
    "\n",
    "    \n",
    "plt.rcParams['figure.figsize'] = [12, 5]    \n",
    "\n",
    "plt.subplot(1, 2, 1)\n",
    "plt.title(\"Gabor Cos\")\n",
    "plt.imshow(matrix)\n",
    "\n",
    "\n",
    "plt.subplot(1, 2, 2)\n",
    "plt.title(\"Gabor Sin\")\n",
    "plt.imshow(matrix2)\n"
   ]
  },
  {
   "cell_type": "code",
   "execution_count": null,
   "metadata": {},
   "outputs": [],
   "source": []
  }
 ],
 "metadata": {
  "kernelspec": {
   "display_name": "Python 3",
   "language": "python",
   "name": "python3"
  },
  "language_info": {
   "codemirror_mode": {
    "name": "ipython",
    "version": 3
   },
   "file_extension": ".py",
   "mimetype": "text/x-python",
   "name": "python",
   "nbconvert_exporter": "python",
   "pygments_lexer": "ipython3",
   "version": "3.6.5"
  }
 },
 "nbformat": 4,
 "nbformat_minor": 2
}
